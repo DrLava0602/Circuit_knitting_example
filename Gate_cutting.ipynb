{
 "cells": [
  {
   "cell_type": "code",
   "execution_count": 1,
   "id": "5bb2826b",
   "metadata": {},
   "outputs": [],
   "source": [
    "import qiskit\n",
    "import numpy as np\n",
    "from qiskit import *\n",
    "from qiskit import QuantumCircuit, execute, Aer\n",
    "from qiskit.visualization import plot_histogram, plot_bloch_vector, plot_bloch_multivector\n",
    "from math import sqrt, pi"
   ]
  },
  {
   "cell_type": "code",
   "execution_count": 2,
   "id": "4ec134d9",
   "metadata": {},
   "outputs": [],
   "source": [
    "q = QuantumRegister(2)\n",
    "c = ClassicalRegister(2)"
   ]
  },
  {
   "cell_type": "code",
   "execution_count": 3,
   "id": "b6efccfe",
   "metadata": {},
   "outputs": [
    {
     "data": {
      "text/html": [
       "<pre style=\"word-wrap: normal;white-space: pre;background: #fff0;line-height: 1.1;font-family: &quot;Courier New&quot;,Courier,monospace\">      ┌─────────┐   ┌─┐   \n",
       "q0_0: ┤ Rx(π/4) ├─■─┤M├───\n",
       "      └──┬───┬──┘ │ └╥┘┌─┐\n",
       "q0_1: ───┤ H ├────■──╫─┤M├\n",
       "         └───┘       ║ └╥┘\n",
       "c0: 2/═══════════════╩══╩═\n",
       "                     0  1 </pre>"
      ],
      "text/plain": [
       "      ┌─────────┐   ┌─┐   \n",
       "q0_0: ┤ Rx(π/4) ├─■─┤M├───\n",
       "      └──┬───┬──┘ │ └╥┘┌─┐\n",
       "q0_1: ───┤ H ├────■──╫─┤M├\n",
       "         └───┘       ║ └╥┘\n",
       "c0: 2/═══════════════╩══╩═\n",
       "                     0  1 "
      ]
     },
     "execution_count": 3,
     "metadata": {},
     "output_type": "execute_result"
    }
   ],
   "source": [
    "circuit = QuantumCircuit(q,c)\n",
    "circuit.rx(pi/4,0)\n",
    "circuit.h(1)\n",
    "circuit.cz(0,1)\n",
    "circuit.measure(0,0)\n",
    "circuit.measure(1,1)\n",
    "circuit.draw()"
   ]
  },
  {
   "cell_type": "code",
   "execution_count": 4,
   "id": "6a97b5b4",
   "metadata": {},
   "outputs": [
    {
     "data": {
      "image/png": "[encoded data removed]",
      "text/plain": [
       "<Figure size 700x500 with 1 Axes>"
      ]
     },
     "execution_count": 4,
     "metadata": {},
     "output_type": "execute_result"
    }
   ],
   "source": [
    "simulator = Aer.get_backend('qasm_simulator')\n",
    "job = execute(circuit, simulator, shots = 1000)\n",
    "result = job.result()\n",
    "counts = result.get_counts()\n",
    "plot_histogram(counts)"
   ]
  },
  {
   "cell_type": "code",
   "execution_count": 5,
   "id": "a6543754",
   "metadata": {},
   "outputs": [],
   "source": [
    "q1 = QuantumRegister(1)\n",
    "c1 = ClassicalRegister(2)"
   ]
  },
  {
   "cell_type": "code",
   "execution_count": 6,
   "id": "34fe04f3",
   "metadata": {},
   "outputs": [
    {
     "data": {
      "text/html": [
       "<pre style=\"word-wrap: normal;white-space: pre;background: #fff0;line-height: 1.1;font-family: &quot;Courier New&quot;,Courier,monospace\">      ┌─────────┐┌─────┐┌─┐\n",
       "  q5: ┤ Rx(π/4) ├┤ Sdg ├┤M├\n",
       "      └─────────┘└─────┘└╥┘\n",
       "c1: 2/═══════════════════╩═\n",
       "                         0 </pre>"
      ],
      "text/plain": [
       "      ┌─────────┐┌─────┐┌─┐\n",
       "  q5: ┤ Rx(π/4) ├┤ Sdg ├┤M├\n",
       "      └─────────┘└─────┘└╥┘\n",
       "c1: 2/═══════════════════╩═\n",
       "                         0 "
      ]
     },
     "execution_count": 6,
     "metadata": {},
     "output_type": "execute_result"
    }
   ],
   "source": [
    "sub1 = QuantumCircuit(q1, c1)\n",
    "sub1.rx(pi/4,0)\n",
    "sub1.sdg(0)\n",
    "sub1.measure(0,0)\n",
    "sub1.draw()\n",
    "simulator = Aer.get_backend('qasm_simulator')\n",
    "job = execute(sub1, simulator, shots = 1000)\n",
    "result = job.result()\n",
    "counts_1 = result.get_counts()\n",
    "sub1.draw()"
   ]
  },
  {
   "cell_type": "code",
   "execution_count": 7,
   "id": "7a3f08ae",
   "metadata": {},
   "outputs": [
    {
     "data": {
      "text/html": [
       "<pre style=\"word-wrap: normal;white-space: pre;background: #fff0;line-height: 1.1;font-family: &quot;Courier New&quot;,Courier,monospace\">      ┌─────────┐┌───┐┌─┐\n",
       "  q5: ┤ Rx(π/4) ├┤ S ├┤M├\n",
       "      └─────────┘└───┘└╥┘\n",
       "c1: 2/═════════════════╩═\n",
       "                       0 </pre>"
      ],
      "text/plain": [
       "      ┌─────────┐┌───┐┌─┐\n",
       "  q5: ┤ Rx(π/4) ├┤ S ├┤M├\n",
       "      └─────────┘└───┘└╥┘\n",
       "c1: 2/═════════════════╩═\n",
       "                       0 "
      ]
     },
     "execution_count": 7,
     "metadata": {},
     "output_type": "execute_result"
    }
   ],
   "source": [
    "sub1.clear()\n",
    "sub1.rx(pi/4,0)\n",
    "sub1.s(0)\n",
    "sub1.measure(0,0)\n",
    "sub1.draw()\n",
    "simulator = Aer.get_backend('qasm_simulator')\n",
    "job = execute(sub1, simulator, shots = 1000)\n",
    "result = job.result()\n",
    "counts_2 = result.get_counts()\n",
    "sub1.draw()"
   ]
  },
  {
   "cell_type": "code",
   "execution_count": 8,
   "id": "d2952c13",
   "metadata": {},
   "outputs": [
    {
     "data": {
      "text/html": [
       "<pre style=\"word-wrap: normal;white-space: pre;background: #fff0;line-height: 1.1;font-family: &quot;Courier New&quot;,Courier,monospace\">      ┌─────────┐┌─────┐┌─┐┌─┐\n",
       "  q5: ┤ Rx(π/4) ├┤ Sdg ├┤M├┤M├\n",
       "      └─────────┘└─────┘└╥┘└╥┘\n",
       "c1: 2/═══════════════════╩══╩═\n",
       "                         1  0 </pre>"
      ],
      "text/plain": [
       "      ┌─────────┐┌─────┐┌─┐┌─┐\n",
       "  q5: ┤ Rx(π/4) ├┤ Sdg ├┤M├┤M├\n",
       "      └─────────┘└─────┘└╥┘└╥┘\n",
       "c1: 2/═══════════════════╩══╩═\n",
       "                         1  0 "
      ]
     },
     "execution_count": 8,
     "metadata": {},
     "output_type": "execute_result"
    }
   ],
   "source": [
    "sub1.clear()\n",
    "sub1.rx(pi/4,0)\n",
    "sub1.sdg(0)\n",
    "sub1.measure(0,1)\n",
    "sub1.measure(0,0)\n",
    "sub1.draw()\n",
    "simulator = Aer.get_backend('qasm_simulator')\n",
    "job = execute(sub1, simulator, shots = 1000)\n",
    "result = job.result()\n",
    "counts_3 = result.get_counts()\n",
    "sub1.draw()"
   ]
  },
  {
   "cell_type": "code",
   "execution_count": 9,
   "id": "1763d4cd",
   "metadata": {},
   "outputs": [
    {
     "data": {
      "text/html": [
       "<pre style=\"word-wrap: normal;white-space: pre;background: #fff0;line-height: 1.1;font-family: &quot;Courier New&quot;,Courier,monospace\">      ┌─────────┐┌─┐\n",
       "  q5: ┤ Rx(π/4) ├┤M├\n",
       "      └─────────┘└╥┘\n",
       "c1: 2/════════════╩═\n",
       "                  0 </pre>"
      ],
      "text/plain": [
       "      ┌─────────┐┌─┐\n",
       "  q5: ┤ Rx(π/4) ├┤M├\n",
       "      └─────────┘└╥┘\n",
       "c1: 2/════════════╩═\n",
       "                  0 "
      ]
     },
     "execution_count": 9,
     "metadata": {},
     "output_type": "execute_result"
    }
   ],
   "source": [
    "sub1.clear()\n",
    "sub1.rx(pi/4,0)\n",
    "sub1.measure(0,0)\n",
    "sub1.draw()\n",
    "simulator = Aer.get_backend('qasm_simulator')\n",
    "job = execute(sub1, simulator, shots = 1000)\n",
    "result = job.result()\n",
    "counts_4 = result.get_counts()\n",
    "sub1.draw()"
   ]
  },
  {
   "cell_type": "code",
   "execution_count": 10,
   "id": "bd1d8050",
   "metadata": {},
   "outputs": [
    {
     "data": {
      "text/html": [
       "<pre style=\"word-wrap: normal;white-space: pre;background: #fff0;line-height: 1.1;font-family: &quot;Courier New&quot;,Courier,monospace\">      ┌─────────┐┌───┐┌─┐\n",
       "  q5: ┤ Rx(π/4) ├┤ Z ├┤M├\n",
       "      └─────────┘└───┘└╥┘\n",
       "c1: 2/═════════════════╩═\n",
       "                       0 </pre>"
      ],
      "text/plain": [
       "      ┌─────────┐┌───┐┌─┐\n",
       "  q5: ┤ Rx(π/4) ├┤ Z ├┤M├\n",
       "      └─────────┘└───┘└╥┘\n",
       "c1: 2/═════════════════╩═\n",
       "                       0 "
      ]
     },
     "execution_count": 10,
     "metadata": {},
     "output_type": "execute_result"
    }
   ],
   "source": [
    "sub1.clear()\n",
    "sub1.rx(pi/4,0)\n",
    "sub1.z(0)\n",
    "sub1.measure(0,0)\n",
    "sub1.draw()\n",
    "simulator = Aer.get_backend('qasm_simulator')\n",
    "job = execute(sub1, simulator, shots = 1000)\n",
    "result = job.result()\n",
    "counts_5 = result.get_counts()\n",
    "sub1.draw()"
   ]
  },
  {
   "cell_type": "code",
   "execution_count": 11,
   "id": "0218a2a9",
   "metadata": {},
   "outputs": [
    {
     "data": {
      "text/html": [
       "<pre style=\"word-wrap: normal;white-space: pre;background: #fff0;line-height: 1.1;font-family: &quot;Courier New&quot;,Courier,monospace\">      ┌───┐┌─────┐┌─┐\n",
       "  q5: ┤ H ├┤ Sdg ├┤M├\n",
       "      └───┘└─────┘└╥┘\n",
       "c1: 2/═════════════╩═\n",
       "                   0 </pre>"
      ],
      "text/plain": [
       "      ┌───┐┌─────┐┌─┐\n",
       "  q5: ┤ H ├┤ Sdg ├┤M├\n",
       "      └───┘└─────┘└╥┘\n",
       "c1: 2/═════════════╩═\n",
       "                   0 "
      ]
     },
     "execution_count": 11,
     "metadata": {},
     "output_type": "execute_result"
    }
   ],
   "source": [
    "sub1 = QuantumCircuit(q1, c1)\n",
    "sub1.h(0)\n",
    "sub1.sdg(0)\n",
    "sub1.measure(0,0)\n",
    "sub1.draw()\n",
    "simulator = Aer.get_backend('qasm_simulator')\n",
    "job = execute(sub1, simulator, shots = 1000)\n",
    "result = job.result()\n",
    "counts_1x = result.get_counts()\n",
    "sub1.draw()"
   ]
  },
  {
   "cell_type": "code",
   "execution_count": 12,
   "id": "0587f3cf",
   "metadata": {},
   "outputs": [
    {
     "data": {
      "text/html": [
       "<pre style=\"word-wrap: normal;white-space: pre;background: #fff0;line-height: 1.1;font-family: &quot;Courier New&quot;,Courier,monospace\">      ┌───┐┌───┐┌─┐\n",
       "  q5: ┤ H ├┤ S ├┤M├\n",
       "      └───┘└───┘└╥┘\n",
       "c1: 2/═══════════╩═\n",
       "                 0 </pre>"
      ],
      "text/plain": [
       "      ┌───┐┌───┐┌─┐\n",
       "  q5: ┤ H ├┤ S ├┤M├\n",
       "      └───┘└───┘└╥┘\n",
       "c1: 2/═══════════╩═\n",
       "                 0 "
      ]
     },
     "execution_count": 12,
     "metadata": {},
     "output_type": "execute_result"
    }
   ],
   "source": [
    "sub1.clear()\n",
    "sub1.h(0)\n",
    "sub1.s(0)\n",
    "sub1.measure(0,0)\n",
    "sub1.draw()\n",
    "simulator = Aer.get_backend('qasm_simulator')\n",
    "job = execute(sub1, simulator, shots = 1000)\n",
    "result = job.result()\n",
    "counts_2x = result.get_counts()\n",
    "sub1.draw()"
   ]
  },
  {
   "cell_type": "code",
   "execution_count": 13,
   "id": "2511eb08",
   "metadata": {},
   "outputs": [
    {
     "data": {
      "text/html": [
       "<pre style=\"word-wrap: normal;white-space: pre;background: #fff0;line-height: 1.1;font-family: &quot;Courier New&quot;,Courier,monospace\">      ┌───┐┌─────┐┌─┐┌─┐\n",
       "  q5: ┤ H ├┤ Sdg ├┤M├┤M├\n",
       "      └───┘└─────┘└╥┘└╥┘\n",
       "c1: 2/═════════════╩══╩═\n",
       "                   1  0 </pre>"
      ],
      "text/plain": [
       "      ┌───┐┌─────┐┌─┐┌─┐\n",
       "  q5: ┤ H ├┤ Sdg ├┤M├┤M├\n",
       "      └───┘└─────┘└╥┘└╥┘\n",
       "c1: 2/═════════════╩══╩═\n",
       "                   1  0 "
      ]
     },
     "execution_count": 13,
     "metadata": {},
     "output_type": "execute_result"
    }
   ],
   "source": [
    "sub1.clear()\n",
    "sub1.h(0)\n",
    "sub1.sdg(0)\n",
    "sub1.measure(0,1)\n",
    "sub1.measure(0,0)\n",
    "sub1.draw()\n",
    "simulator = Aer.get_backend('qasm_simulator')\n",
    "job = execute(sub1, simulator, shots = 1000)\n",
    "result = job.result()\n",
    "counts_3x = result.get_counts()\n",
    "sub1.draw()"
   ]
  },
  {
   "cell_type": "code",
   "execution_count": 14,
   "id": "1c7f5872",
   "metadata": {},
   "outputs": [
    {
     "data": {
      "text/html": [
       "<pre style=\"word-wrap: normal;white-space: pre;background: #fff0;line-height: 1.1;font-family: &quot;Courier New&quot;,Courier,monospace\">      ┌───┐┌─┐\n",
       "  q5: ┤ H ├┤M├\n",
       "      └───┘└╥┘\n",
       "c1: 2/══════╩═\n",
       "            0 </pre>"
      ],
      "text/plain": [
       "      ┌───┐┌─┐\n",
       "  q5: ┤ H ├┤M├\n",
       "      └───┘└╥┘\n",
       "c1: 2/══════╩═\n",
       "            0 "
      ]
     },
     "execution_count": 14,
     "metadata": {},
     "output_type": "execute_result"
    }
   ],
   "source": [
    "sub1.clear()\n",
    "sub1.h(0)\n",
    "sub1.measure(0,0)\n",
    "sub1.draw()\n",
    "simulator = Aer.get_backend('qasm_simulator')\n",
    "job = execute(sub1, simulator, shots = 1000)\n",
    "result = job.result()\n",
    "counts_4x = result.get_counts()\n",
    "sub1.draw()"
   ]
  },
  {
   "cell_type": "code",
   "execution_count": 15,
   "id": "0b4bf792",
   "metadata": {},
   "outputs": [
    {
     "data": {
      "text/html": [
       "<pre style=\"word-wrap: normal;white-space: pre;background: #fff0;line-height: 1.1;font-family: &quot;Courier New&quot;,Courier,monospace\">      ┌───┐┌───┐┌─┐\n",
       "  q5: ┤ H ├┤ Z ├┤M├\n",
       "      └───┘└───┘└╥┘\n",
       "c1: 2/═══════════╩═\n",
       "                 0 </pre>"
      ],
      "text/plain": [
       "      ┌───┐┌───┐┌─┐\n",
       "  q5: ┤ H ├┤ Z ├┤M├\n",
       "      └───┘└───┘└╥┘\n",
       "c1: 2/═══════════╩═\n",
       "                 0 "
      ]
     },
     "execution_count": 15,
     "metadata": {},
     "output_type": "execute_result"
    }
   ],
   "source": [
    "sub1.clear()\n",
    "sub1.h(0)\n",
    "sub1.z(0)\n",
    "sub1.measure(0,0)\n",
    "sub1.draw()\n",
    "simulator = Aer.get_backend('qasm_simulator')\n",
    "job = execute(sub1, simulator, shots = 1000)\n",
    "result = job.result()\n",
    "counts_5x = result.get_counts()\n",
    "sub1.draw()"
   ]
  },
  {
   "cell_type": "code",
   "execution_count": 16,
   "id": "7de4cf5a",
   "metadata": {},
   "outputs": [
    {
     "data": {
      "text/plain": [
       "<BarContainer object of 4 artists>"
      ]
     },
     "execution_count": 16,
     "metadata": {},
     "output_type": "execute_result"
    },
    {
     "data": {
      "image/png": "[encoded data removed]",
      "text/plain": [
       "<Figure size 640x480 with 1 Axes>"
      ]
     },
     "metadata": {},
     "output_type": "display_data"
    }
   ],
   "source": [
    "import matplotlib.pyplot as plt\n",
    "state_prob = {'00': 0, '01': 0, '10': 0, '11': 0}\n",
    "for i in ['0','1']:\n",
    "    for j in ['0', '1']:\n",
    "        s = j+i\n",
    "        sum = (counts_1['0'+i]/1000 * counts_1x['0'+j]/1000)/2\n",
    "        sum += (counts_2['0'+i]/1000 * counts_2x['0'+j]/1000)/2\n",
    "        sum += (counts_3[i+i]/1000 * counts_4x['0'+j]/1000)/2\n",
    "        sum += (counts_3x[i+i]/1000 * counts_4['0'+j]/1000)/2\n",
    "        sum -= (counts_3[i+i]/1000 * counts_5x['0'+j]/1000)/2\n",
    "        sum -= (counts_3x[i+i]/1000 * counts_5['0'+j]/1000)/2\n",
    "        state_prob[s] = state_prob[s] + sum\n",
    "plt.bar(['00', '01', '10', '11'], [state_prob['00'], state_prob['01'], state_prob['10'], state_prob['11']])"
   ]
  },
  {
   "cell_type": "code",
   "execution_count": null,
   "id": "4567934f",
   "metadata": {},
   "outputs": [],
   "source": []
  }
 ],
 "metadata": {
  "kernelspec": {
   "display_name": "Python 3 (ipykernel)",
   "language": "python",
   "name": "python3"
  },
  "language_info": {
   "codemirror_mode": {
    "name": "ipython",
    "version": 3
   },
   "file_extension": ".py",
   "mimetype": "text/x-python",
   "name": "python",
   "nbconvert_exporter": "python",
   "pygments_lexer": "ipython3",
   "version": "3.11.4"
  }
 },
 "nbformat": 4,
 "nbformat_minor": 5
}
