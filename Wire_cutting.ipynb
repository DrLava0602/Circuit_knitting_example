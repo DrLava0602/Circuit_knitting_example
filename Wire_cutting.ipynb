{
 "cells": [
  {
   "cell_type": "code",
   "execution_count": 1,
   "id": "0d27e2b8",
   "metadata": {},
   "outputs": [],
   "source": [
    "import qiskit\n",
    "import numpy as np\n",
    "from qiskit import *\n",
    "from qiskit import QuantumCircuit, execute, Aer\n",
    "from qiskit.visualization import plot_histogram, plot_bloch_vector, plot_bloch_multivector\n",
    "from math import sqrt, pi"
   ]
  },
  {
   "cell_type": "code",
   "execution_count": 2,
   "id": "109a17c0",
   "metadata": {},
   "outputs": [],
   "source": [
    "q = QuantumRegister(3)\n",
    "c = ClassicalRegister(3)"
   ]
  },
  {
   "cell_type": "code",
   "execution_count": 3,
   "id": "133887d4",
   "metadata": {},
   "outputs": [
    {
     "data": {
      "text/html": [
       "<pre style=\"word-wrap: normal;white-space: pre;background: #fff0;line-height: 1.1;font-family: &quot;Courier New&quot;,Courier,monospace\">      ┌─────────┐        ┌─┐                \n",
       "q0_0: ┤ Rx(π/6) ├──■─────┤M├────────────────\n",
       "      └─────────┘┌─┴─┐ ░ └╥┘┌───┐     ┌─┐   \n",
       "q0_1: ───────────┤ X ├─░──╫─┤ H ├──■──┤M├───\n",
       "                 └───┘ ░  ║ └───┘┌─┴─┐└╥┘┌─┐\n",
       "q0_2: ────────────────────╫──────┤ X ├─╫─┤M├\n",
       "                          ║      └───┘ ║ └╥┘\n",
       "c0: 3/════════════════════╩════════════╩══╩═\n",
       "                          0            1  2 </pre>"
      ],
      "text/plain": [
       "      ┌─────────┐        ┌─┐                \n",
       "q0_0: ┤ Rx(π/6) ├──■─────┤M├────────────────\n",
       "      └─────────┘┌─┴─┐ ░ └╥┘┌───┐     ┌─┐   \n",
       "q0_1: ───────────┤ X ├─░──╫─┤ H ├──■──┤M├───\n",
       "                 └───┘ ░  ║ └───┘┌─┴─┐└╥┘┌─┐\n",
       "q0_2: ────────────────────╫──────┤ X ├─╫─┤M├\n",
       "                          ║      └───┘ ║ └╥┘\n",
       "c0: 3/════════════════════╩════════════╩══╩═\n",
       "                          0            1  2 "
      ]
     },
     "execution_count": 3,
     "metadata": {},
     "output_type": "execute_result"
    }
   ],
   "source": [
    "# original circuit\n",
    "circuit = QuantumCircuit(q,c)\n",
    "circuit.rx(pi/4,0)\n",
    "circuit.cx(0,1)\n",
    "circuit.barrier(1)\n",
    "circuit.h(1)\n",
    "circuit.cx(1,2)\n",
    "circuit.measure(0,0)\n",
    "circuit.measure(1,1)\n",
    "circuit.measure(2,2)\n",
    "circuit.draw()"
   ]
  },
  {
   "cell_type": "code",
   "execution_count": 4,
   "id": "079f7fac",
   "metadata": {},
   "outputs": [
    {
     "data": {
      "image/png": "[encoded data removed]",
      "text/plain": [
       "<Figure size 700x500 with 1 Axes>"
      ]
     },
     "execution_count": 4,
     "metadata": {},
     "output_type": "execute_result"
    }
   ],
   "source": [
    "simulator = Aer.get_backend('qasm_simulator')\n",
    "job = execute(circuit, simulator, shots = 1000)\n",
    "result = job.result()\n",
    "counts = result.get_counts()\n",
    "plot_histogram(counts)"
   ]
  },
  {
   "cell_type": "code",
   "execution_count": 5,
   "id": "3391020e",
   "metadata": {},
   "outputs": [
    {
     "data": {
      "text/html": [
       "<pre style=\"word-wrap: normal;white-space: pre;background: #fff0;line-height: 1.1;font-family: &quot;Courier New&quot;,Courier,monospace\">      ┌─────────┐     ┌─┐   \n",
       "q6_0: ┤ Rx(π/6) ├──■──┤M├───\n",
       "      └─────────┘┌─┴─┐└╥┘┌─┐\n",
       "q6_1: ───────────┤ X ├─╫─┤M├\n",
       "                 └───┘ ║ └╥┘\n",
       "c1: 2/═════════════════╩══╩═\n",
       "                       0  1 </pre>"
      ],
      "text/plain": [
       "      ┌─────────┐     ┌─┐   \n",
       "q6_0: ┤ Rx(π/6) ├──■──┤M├───\n",
       "      └─────────┘┌─┴─┐└╥┘┌─┐\n",
       "q6_1: ───────────┤ X ├─╫─┤M├\n",
       "                 └───┘ ║ └╥┘\n",
       "c1: 2/═════════════════╩══╩═\n",
       "                       0  1 "
      ]
     },
     "execution_count": 5,
     "metadata": {},
     "output_type": "execute_result"
    }
   ],
   "source": [
    "# subcircuit 1\n",
    "q1 = QuantumRegister(2)\n",
    "c1 = ClassicalRegister(2)\n",
    "sub1 = QuantumCircuit(q1, c1)\n",
    "sub1.rx(pi/4,0)\n",
    "sub1.cx(0,1)\n",
    "sub1.measure(0,0)\n",
    "sub1.measure(1,1)\n",
    "sub1.draw()"
   ]
  },
  {
   "cell_type": "code",
   "execution_count": 6,
   "id": "e599c607",
   "metadata": {},
   "outputs": [],
   "source": [
    "job = execute(sub1, simulator, shots = 1000)\n",
    "result = job.result()\n",
    "counts_z = result.get_counts()\n",
    "if '00' not in counts_z.keys():\n",
    "    counts_z.update({'00':0})\n",
    "if '01' not in counts_z.keys():\n",
    "    counts_z.update({'01':0})\n",
    "if '10' not in counts_z.keys():\n",
    "    counts_z.update({'10':0})\n",
    "if '11' not in counts_z.keys():\n",
    "    counts_z.update({'11':0})\n",
    "sub1.clear()"
   ]
  },
  {
   "cell_type": "code",
   "execution_count": 7,
   "id": "9d0198b1",
   "metadata": {},
   "outputs": [
    {
     "data": {
      "text/html": [
       "<pre style=\"word-wrap: normal;white-space: pre;background: #fff0;line-height: 1.1;font-family: &quot;Courier New&quot;,Courier,monospace\">      ┌─────────┐          ┌─┐   \n",
       "q6_0: ┤ Rx(π/6) ├──■───────┤M├───\n",
       "      └─────────┘┌─┴─┐┌───┐└╥┘┌─┐\n",
       "q6_1: ───────────┤ X ├┤ H ├─╫─┤M├\n",
       "                 └───┘└───┘ ║ └╥┘\n",
       "c1: 2/══════════════════════╩══╩═\n",
       "                            0  1 </pre>"
      ],
      "text/plain": [
       "      ┌─────────┐          ┌─┐   \n",
       "q6_0: ┤ Rx(π/6) ├──■───────┤M├───\n",
       "      └─────────┘┌─┴─┐┌───┐└╥┘┌─┐\n",
       "q6_1: ───────────┤ X ├┤ H ├─╫─┤M├\n",
       "                 └───┘└───┘ ║ └╥┘\n",
       "c1: 2/══════════════════════╩══╩═\n",
       "                            0  1 "
      ]
     },
     "execution_count": 7,
     "metadata": {},
     "output_type": "execute_result"
    }
   ],
   "source": [
    "sub1.rx(pi/4,0)\n",
    "sub1.cx(0,1)\n",
    "sub1.h(1)\n",
    "sub1.measure(0,0)\n",
    "sub1.measure(1,1)\n",
    "sub1.draw()"
   ]
  },
  {
   "cell_type": "code",
   "execution_count": 8,
   "id": "10c0dd33",
   "metadata": {},
   "outputs": [],
   "source": [
    "job = execute(sub1, simulator, shots = 1000)\n",
    "result = job.result()\n",
    "counts_x = result.get_counts()\n",
    "if '00' not in counts_x.keys():\n",
    "    counts_x.update({'00':0})\n",
    "if '01' not in counts_x.keys():\n",
    "    counts_x.update({'01':0})\n",
    "if '10' not in counts_x.keys():\n",
    "    counts_x.update({'10':0})\n",
    "if '11' not in counts_x.keys():\n",
    "    counts_x.update({'11':0})\n",
    "sub1.clear()"
   ]
  },
  {
   "cell_type": "code",
   "execution_count": 9,
   "id": "8a6bac3e",
   "metadata": {},
   "outputs": [
    {
     "data": {
      "text/html": [
       "<pre style=\"word-wrap: normal;white-space: pre;background: #fff0;line-height: 1.1;font-family: &quot;Courier New&quot;,Courier,monospace\">      ┌─────────┐            ┌─┐        \n",
       "q6_0: ┤ Rx(π/6) ├──■─────────┤M├────────\n",
       "      └─────────┘┌─┴─┐┌─────┐└╥┘┌───┐┌─┐\n",
       "q6_1: ───────────┤ X ├┤ Sdg ├─╫─┤ H ├┤M├\n",
       "                 └───┘└─────┘ ║ └───┘└╥┘\n",
       "c1: 2/════════════════════════╩═══════╩═\n",
       "                              0       1 </pre>"
      ],
      "text/plain": [
       "      ┌─────────┐            ┌─┐        \n",
       "q6_0: ┤ Rx(π/6) ├──■─────────┤M├────────\n",
       "      └─────────┘┌─┴─┐┌─────┐└╥┘┌───┐┌─┐\n",
       "q6_1: ───────────┤ X ├┤ Sdg ├─╫─┤ H ├┤M├\n",
       "                 └───┘└─────┘ ║ └───┘└╥┘\n",
       "c1: 2/════════════════════════╩═══════╩═\n",
       "                              0       1 "
      ]
     },
     "execution_count": 9,
     "metadata": {},
     "output_type": "execute_result"
    }
   ],
   "source": [
    "sub1.rx(pi/4,0)\n",
    "sub1.cx(0,1)\n",
    "sub1.sdg(1)\n",
    "sub1.h(1)\n",
    "sub1.measure(0,0)\n",
    "sub1.measure(1,1)\n",
    "sub1.draw()"
   ]
  },
  {
   "cell_type": "code",
   "execution_count": 10,
   "id": "a21378be",
   "metadata": {},
   "outputs": [],
   "source": [
    "job = execute(sub1, simulator, shots = 1000)\n",
    "result = job.result()\n",
    "counts_y = result.get_counts()\n",
    "if '00' not in counts_y.keys():\n",
    "    counts_y.update({'00':0})\n",
    "if '01' not in counts_y.keys():\n",
    "    counts_y.update({'01':0})\n",
    "if '10' not in counts_y.keys():\n",
    "    counts_y.update({'10':0})\n",
    "if '11' not in counts_y.keys():\n",
    "    counts_y.update({'11':0})\n",
    "sub1.clear()"
   ]
  },
  {
   "cell_type": "code",
   "execution_count": 11,
   "id": "817b194b",
   "metadata": {},
   "outputs": [
    {
     "data": {
      "text/html": [
       "<pre style=\"word-wrap: normal;white-space: pre;background: #fff0;line-height: 1.1;font-family: &quot;Courier New&quot;,Courier,monospace\">       ┌───┐     ┌─┐   \n",
       "q19_0: ┤ H ├──■──┤M├───\n",
       "       └───┘┌─┴─┐└╥┘┌─┐\n",
       "q19_1: ─────┤ X ├─╫─┤M├\n",
       "            └───┘ ║ └╥┘\n",
       " c2: 2/═══════════╩══╩═\n",
       "                  0  1 </pre>"
      ],
      "text/plain": [
       "       ┌───┐     ┌─┐   \n",
       "q19_0: ┤ H ├──■──┤M├───\n",
       "       └───┘┌─┴─┐└╥┘┌─┐\n",
       "q19_1: ─────┤ X ├─╫─┤M├\n",
       "            └───┘ ║ └╥┘\n",
       " c2: 2/═══════════╩══╩═\n",
       "                  0  1 "
      ]
     },
     "execution_count": 11,
     "metadata": {},
     "output_type": "execute_result"
    }
   ],
   "source": [
    "q2 = QuantumRegister(2)\n",
    "c2 = ClassicalRegister(2)\n",
    "sub2 = QuantumCircuit(q2, c2)\n",
    "sub2.h(0)\n",
    "sub2.cx(0,1)\n",
    "sub2.measure(0,0)\n",
    "sub2.measure(1,1)\n",
    "sub2.draw()"
   ]
  },
  {
   "cell_type": "code",
   "execution_count": 12,
   "id": "4939b1a7",
   "metadata": {},
   "outputs": [],
   "source": [
    "job = execute(sub2, simulator, shots = 1000)\n",
    "result = job.result()\n",
    "counts_0 = result.get_counts()\n",
    "if '00' not in counts_0.keys():\n",
    "    counts_0.update({'00':0})\n",
    "if '01' not in counts_0.keys():\n",
    "    counts_0.update({'01':0})\n",
    "if '10' not in counts_0.keys():\n",
    "    counts_0.update({'10':0})\n",
    "if '11' not in counts_0.keys():\n",
    "    counts_0.update({'11':0})\n",
    "sub2.clear()"
   ]
  },
  {
   "cell_type": "code",
   "execution_count": 13,
   "id": "d952c830",
   "metadata": {},
   "outputs": [
    {
     "data": {
      "text/html": [
       "<pre style=\"word-wrap: normal;white-space: pre;background: #fff0;line-height: 1.1;font-family: &quot;Courier New&quot;,Courier,monospace\">       ┌───┐┌───┐     ┌─┐   \n",
       "q19_0: ┤ X ├┤ H ├──■──┤M├───\n",
       "       └───┘└───┘┌─┴─┐└╥┘┌─┐\n",
       "q19_1: ──────────┤ X ├─╫─┤M├\n",
       "                 └───┘ ║ └╥┘\n",
       " c2: 2/════════════════╩══╩═\n",
       "                       0  1 </pre>"
      ],
      "text/plain": [
       "       ┌───┐┌───┐     ┌─┐   \n",
       "q19_0: ┤ X ├┤ H ├──■──┤M├───\n",
       "       └───┘└───┘┌─┴─┐└╥┘┌─┐\n",
       "q19_1: ──────────┤ X ├─╫─┤M├\n",
       "                 └───┘ ║ └╥┘\n",
       " c2: 2/════════════════╩══╩═\n",
       "                       0  1 "
      ]
     },
     "execution_count": 13,
     "metadata": {},
     "output_type": "execute_result"
    }
   ],
   "source": [
    "sub2.x(0)\n",
    "sub2.h(0)\n",
    "sub2.cx(0,1)\n",
    "sub2.measure(0,0)\n",
    "sub2.measure(1,1)\n",
    "sub2.draw()"
   ]
  },
  {
   "cell_type": "code",
   "execution_count": 14,
   "id": "a8611963",
   "metadata": {},
   "outputs": [],
   "source": [
    "job = execute(sub2, simulator, shots = 1000)\n",
    "result = job.result()\n",
    "counts_1 = result.get_counts()\n",
    "if '00' not in counts_1.keys():\n",
    "    counts_1.update({'00':0})\n",
    "if '01' not in counts_1.keys():\n",
    "    counts_1.update({'01':0})\n",
    "if '10' not in counts_1.keys():\n",
    "    counts_1.update({'10':0})\n",
    "if '11' not in counts_1.keys():\n",
    "    counts_1.update({'11':0})\n",
    "sub2.clear()"
   ]
  },
  {
   "cell_type": "code",
   "execution_count": 15,
   "id": "cb08822f",
   "metadata": {},
   "outputs": [
    {
     "data": {
      "text/html": [
       "<pre style=\"word-wrap: normal;white-space: pre;background: #fff0;line-height: 1.1;font-family: &quot;Courier New&quot;,Courier,monospace\">            ┌─┐   \n",
       "q19_0: ──■──┤M├───\n",
       "       ┌─┴─┐└╥┘┌─┐\n",
       "q19_1: ┤ X ├─╫─┤M├\n",
       "       └───┘ ║ └╥┘\n",
       " c2: 2/══════╩══╩═\n",
       "             0  1 </pre>"
      ],
      "text/plain": [
       "            ┌─┐   \n",
       "q19_0: ──■──┤M├───\n",
       "       ┌─┴─┐└╥┘┌─┐\n",
       "q19_1: ┤ X ├─╫─┤M├\n",
       "       └───┘ ║ └╥┘\n",
       " c2: 2/══════╩══╩═\n",
       "             0  1 "
      ]
     },
     "execution_count": 15,
     "metadata": {},
     "output_type": "execute_result"
    }
   ],
   "source": [
    "sub2.cx(0,1)\n",
    "sub2.measure(0,0)\n",
    "sub2.measure(1,1)\n",
    "sub2.draw()"
   ]
  },
  {
   "cell_type": "code",
   "execution_count": 16,
   "id": "bdba0a1b",
   "metadata": {},
   "outputs": [],
   "source": [
    "job = execute(sub2, simulator, shots = 1000)\n",
    "result = job.result()\n",
    "counts_p = result.get_counts()\n",
    "if '00' not in counts_p.keys():\n",
    "    counts_p.update({'00':0})\n",
    "if '01' not in counts_p.keys():\n",
    "    counts_p.update({'01':0})\n",
    "if '10' not in counts_p.keys():\n",
    "    counts_p.update({'10':0})\n",
    "if '11' not in counts_p.keys():\n",
    "    counts_p.update({'11':0})\n",
    "sub2.clear()"
   ]
  },
  {
   "cell_type": "code",
   "execution_count": 17,
   "id": "c02bf7f1",
   "metadata": {},
   "outputs": [
    {
     "data": {
      "text/html": [
       "<pre style=\"word-wrap: normal;white-space: pre;background: #fff0;line-height: 1.1;font-family: &quot;Courier New&quot;,Courier,monospace\">       ┌──────────┐┌───┐     ┌─┐   \n",
       "q19_0: ┤ Rx(-π/2) ├┤ H ├──■──┤M├───\n",
       "       └──────────┘└───┘┌─┴─┐└╥┘┌─┐\n",
       "q19_1: ─────────────────┤ X ├─╫─┤M├\n",
       "                        └───┘ ║ └╥┘\n",
       " c2: 2/═══════════════════════╩══╩═\n",
       "                              0  1 </pre>"
      ],
      "text/plain": [
       "       ┌──────────┐┌───┐     ┌─┐   \n",
       "q19_0: ┤ Rx(-π/2) ├┤ H ├──■──┤M├───\n",
       "       └──────────┘└───┘┌─┴─┐└╥┘┌─┐\n",
       "q19_1: ─────────────────┤ X ├─╫─┤M├\n",
       "                        └───┘ ║ └╥┘\n",
       " c2: 2/═══════════════════════╩══╩═\n",
       "                              0  1 "
      ]
     },
     "execution_count": 17,
     "metadata": {},
     "output_type": "execute_result"
    }
   ],
   "source": [
    "sub2.rx(-pi/2,0)\n",
    "sub2.h(0)\n",
    "sub2.cx(0,1)\n",
    "sub2.measure(0,0)\n",
    "sub2.measure(1,1)\n",
    "sub2.draw()"
   ]
  },
  {
   "cell_type": "code",
   "execution_count": 18,
   "id": "d3707825",
   "metadata": {},
   "outputs": [],
   "source": [
    "job = execute(sub2, simulator, shots = 1000)\n",
    "result = job.result()\n",
    "counts_i = result.get_counts()\n",
    "if '00' not in counts_i.keys():\n",
    "    counts_i.update({'00':0})\n",
    "if '01' not in counts_i.keys():\n",
    "    counts_i.update({'01':0})\n",
    "if '10' not in counts_i.keys():\n",
    "    counts_i.update({'10':0})\n",
    "if '11' not in counts_i.keys():\n",
    "    counts_i.update({'11':0})\n",
    "sub2.clear()"
   ]
  },
  {
   "cell_type": "code",
   "execution_count": 19,
   "id": "50f6424e",
   "metadata": {},
   "outputs": [
    {
     "name": "stdout",
     "output_type": "stream",
     "text": [
      "0.935424 0.0 -0.02738399999999997 -0.0005439999999999991\n",
      "0.0 0.0 -0.0 0.0\n",
      "0.0 0.0 -0.0 0.0\n",
      "0.9205760000000001 0.0 0.02738399999999997 0.0005439999999999991\n",
      "0.0 0.07459199999999999 0.003912000000000003 0.000136\n",
      "0.0 0.0 0.0 -0.0\n",
      "0.0 0.0 0.0 -0.0\n",
      "0.0 0.069408 -0.003912000000000003 -0.000136\n"
     ]
    },
    {
     "data": {
      "text/plain": [
       "<BarContainer object of 8 artists>"
      ]
     },
     "execution_count": 19,
     "metadata": {},
     "output_type": "execute_result"
    },
    {
     "data": {
      "image/png": "[encoded data removed]",
      "text/plain": [
       "<Figure size 640x480 with 1 Axes>"
      ]
     },
     "metadata": {},
     "output_type": "display_data"
    }
   ],
   "source": [
    "import matplotlib.pyplot as plt\n",
    "state_prob = []\n",
    "for states in ['000', '001', '010', '011', '100', '101', '110', '111']:\n",
    "    string1 = '0'+states[0]\n",
    "#     print(string1)\n",
    "    sum1 = (counts_z[string1]/1000)*2 * (counts_0[states[::-1][:2]]/1000)\n",
    "    string2 = '1'+states[0]\n",
    "    sum2 = (counts_z[string2]/1000)*2 * (counts_1[states[::-1][:2]]/1000)\n",
    "    sum3 = (counts_x[string1]/1000 - counts_x[string2]/1000) * (2*counts_p[states[::-1][:2]]/1000 - counts_0[states[::-1][:2]]/1000 - counts_1[states[::-1][:2]]/1000)\n",
    "    sum4 = (counts_y[string1]/1000 - counts_y[string2]/1000) * (2*counts_i[states[::-1][:2]]/1000 - counts_0[states[::-1][:2]]/1000 - counts_1[states[::-1][:2]]/1000)\n",
    "    sum = (sum1+sum2+sum3+sum4)/2\n",
    "    print(sum1, sum2, sum3, sum4)\n",
    "    state_prob.append(sum)\n",
    "plt.bar(['000', '100', '010', '110', '001', '101', '011', '111'], state_prob)"
   ]
  },
  {
   "cell_type": "code",
   "execution_count": null,
   "id": "b4c7c8bc",
   "metadata": {},
   "outputs": [],
   "source": []
  }
 ],
 "metadata": {
  "kernelspec": {
   "display_name": "Python 3 (ipykernel)",
   "language": "python",
   "name": "python3"
  },
  "language_info": {
   "codemirror_mode": {
    "name": "ipython",
    "version": 3
   },
   "file_extension": ".py",
   "mimetype": "text/x-python",
   "name": "python",
   "nbconvert_exporter": "python",
   "pygments_lexer": "ipython3",
   "version": "3.11.4"
  }
 },
 "nbformat": 4,
 "nbformat_minor": 5
}
